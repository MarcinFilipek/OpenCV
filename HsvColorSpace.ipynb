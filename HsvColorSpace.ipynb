{
 "cells": [
  {
   "cell_type": "code",
   "execution_count": 1,
   "metadata": {},
   "outputs": [],
   "source": [
    "import cv2\n",
    "import numpy as np"
   ]
  },
  {
   "cell_type": "code",
   "execution_count": 2,
   "metadata": {},
   "outputs": [],
   "source": [
    "def nothing(x):\n",
    "    pass"
   ]
  },
  {
   "cell_type": "code",
   "execution_count": 20,
   "metadata": {},
   "outputs": [],
   "source": [
    "# cap = cv2.VideoCapture(0)\n",
    "cv2.namedWindow(\"Trackbars\")\n",
    "cv2.createTrackbar(\"HL\", \"Trackbars\", 0, 179, nothing)\n",
    "cv2.createTrackbar(\"SL\", \"Trackbars\", 0, 255, nothing)\n",
    "cv2.createTrackbar(\"VL\", \"Trackbars\", 0, 255, nothing)\n",
    "\n",
    "cv2.createTrackbar(\"HU\", \"Trackbars\", 179, 179, nothing)\n",
    "cv2.createTrackbar(\"SU\", \"Trackbars\", 255, 255, nothing)\n",
    "cv2.createTrackbar(\"VU\", \"Trackbars\", 255, 255, nothing)"
   ]
  },
  {
   "cell_type": "code",
   "execution_count": 21,
   "metadata": {},
   "outputs": [],
   "source": [
    "while True:\n",
    "#     _, img = cap.read()\n",
    "    img = cv2.imread('elesh_avatar.jpg')\n",
    "    hsv = cv2.cvtColor(img, cv2.COLOR_BGR2HSV)\n",
    "\n",
    "    hl = cv2.getTrackbarPos(\"HL\", \"Trackbars\")\n",
    "    sl = cv2.getTrackbarPos(\"SL\", \"Trackbars\")\n",
    "    vl = cv2.getTrackbarPos(\"VL\", \"Trackbars\")\n",
    "    \n",
    "    hu = cv2.getTrackbarPos(\"HU\", \"Trackbars\")\n",
    "    su = cv2.getTrackbarPos(\"SU\", \"Trackbars\")\n",
    "    vu = cv2.getTrackbarPos(\"VU\", \"Trackbars\")\n",
    "    \n",
    "    lower_blue = np.array([hl, sl, vl])\n",
    "    upper_blue = np.array([hu, su, vu])\n",
    "    mask = cv2.inRange(hsv, lower_blue, upper_blue)\n",
    "    \n",
    "    result = cv2.bitwise_and(img, img, mask = mask)\n",
    "    \n",
    "    cv2.imshow(\"Img\", hsv)\n",
    "    cv2.imshow(\"Mask\", mask)\n",
    "    cv2.imshow(\"Result\", result)\n",
    "    key = cv2.waitKey(1)\n",
    "    if key == 27:\n",
    "        break\n",
    "\n",
    "# cap.release()\n",
    "cv2.destroyAllWindows()"
   ]
  },
  {
   "cell_type": "code",
   "execution_count": null,
   "metadata": {},
   "outputs": [],
   "source": []
  }
 ],
 "metadata": {
  "kernelspec": {
   "display_name": "Python 3",
   "language": "python",
   "name": "python3"
  },
  "language_info": {
   "codemirror_mode": {
    "name": "ipython",
    "version": 3
   },
   "file_extension": ".py",
   "mimetype": "text/x-python",
   "name": "python",
   "nbconvert_exporter": "python",
   "pygments_lexer": "ipython3",
   "version": "3.6.8"
  }
 },
 "nbformat": 4,
 "nbformat_minor": 2
}
