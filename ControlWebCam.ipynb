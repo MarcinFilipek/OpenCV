{
 "cells": [
  {
   "cell_type": "code",
   "execution_count": 1,
   "metadata": {},
   "outputs": [],
   "source": [
    "import cv2\n",
    "import numpy as np"
   ]
  },
  {
   "cell_type": "code",
   "execution_count": 2,
   "metadata": {},
   "outputs": [],
   "source": [
    "def initCamera():\n",
    "    cap = cv2.VideoCapture(0)\n",
    "    cap.set(3, 480)\n",
    "    cap.set(4, 320)\n",
    "    return cap"
   ]
  },
  {
   "cell_type": "code",
   "execution_count": 3,
   "metadata": {},
   "outputs": [],
   "source": [
    "def getCenterOfImage(img):\n",
    "    height, width, _ = img.shape\n",
    "    center_y = height / 2\n",
    "    center_x = width / 2\n",
    "    return center_x, center_y"
   ]
  },
  {
   "cell_type": "code",
   "execution_count": 8,
   "metadata": {},
   "outputs": [],
   "source": [
    "def getMask(img):\n",
    "    hsv_img = cv2.cvtColor(img, cv2.COLOR_RGB2HSV)\n",
    "    low_color = np.array([103, 38, 31])\n",
    "    high_color = np.array([179, 255, 255])\n",
    "    mask = cv2.inRange(hsv_img, low_color, high_color)\n",
    "    return mask, hsv_img"
   ]
  },
  {
   "cell_type": "code",
   "execution_count": 17,
   "metadata": {},
   "outputs": [
    {
     "name": "stdout",
     "output_type": "stream",
     "text": [
      "(318, 148, 183, 183)\n"
     ]
    }
   ],
   "source": [
    "# cap = initCamera()\n",
    "while True:\n",
    "#     _, img = cap.read()\n",
    "    img = cv2.imread('Kula.jpg')\n",
    "    mask, hsv_img = getMask(img)\n",
    "    result = cv2.bitwise_and(img, img, mask = mask)\n",
    "    \n",
    "    cv2.imshow(\"Kamera hsv\", hsv_img)\n",
    "    cv2.imshow(\"Result\", result)\n",
    "    \n",
    "    \n",
    "    _, contours, _ = cv2.findContours(mask, cv2.RETR_TREE, cv2.CHAIN_APPROX_SIMPLE)\n",
    "    contours = sorted(contours, key=lambda x: cv2.contourArea(x), reverse=True)\n",
    "    \n",
    "    x, y, w, h = cv2.boundingRect(contours[0])\n",
    "\n",
    "    cv2.rectangle(img, (x,y), (x+w, y+h), (255, 0, 0), thickness=1);\n",
    "    cv2.imshow(\"Kamera\", img)\n",
    "    \n",
    "    key = cv2.waitKey(1)\n",
    "    if key == 27:\n",
    "        print((x, y, w, h))\n",
    "        break"
   ]
  },
  {
   "cell_type": "code",
   "execution_count": 18,
   "metadata": {},
   "outputs": [],
   "source": [
    "# cap.release()\n",
    "cv2.destroyAllWindows()"
   ]
  },
  {
   "cell_type": "code",
   "execution_count": null,
   "metadata": {},
   "outputs": [],
   "source": []
  }
 ],
 "metadata": {
  "kernelspec": {
   "display_name": "Python 3",
   "language": "python",
   "name": "python3"
  },
  "language_info": {
   "codemirror_mode": {
    "name": "ipython",
    "version": 3
   },
   "file_extension": ".py",
   "mimetype": "text/x-python",
   "name": "python",
   "nbconvert_exporter": "python",
   "pygments_lexer": "ipython3",
   "version": "3.6.8"
  }
 },
 "nbformat": 4,
 "nbformat_minor": 2
}
