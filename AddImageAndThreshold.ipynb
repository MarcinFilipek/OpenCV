{
 "cells": [
  {
   "cell_type": "code",
   "execution_count": 2,
   "metadata": {},
   "outputs": [],
   "source": [
    "import cv2\n",
    "import numpy as np"
   ]
  },
  {
   "cell_type": "code",
   "execution_count": 34,
   "metadata": {},
   "outputs": [],
   "source": [
    "img_car = cv2.imread(\"car.jpg\")\n",
    "img_road = cv2.imread(\"road.jpg\")\n",
    "img_car_gray = cv2.cvtColor(img_car, cv2.COLOR_BGR2GRAY)\n",
    "\n",
    "retval, mask = cv2.threshold(img_car_gray, 245, 255, cv2.THRESH_BINARY)\n",
    "mask_inv = cv2.bitwise_not(mask)"
   ]
  },
  {
   "cell_type": "code",
   "execution_count": 35,
   "metadata": {},
   "outputs": [],
   "source": [
    "road = cv2.bitwise_and(img_road, img_road, mask=mask)\n",
    "car = cv2.bitwise_and(img_car, img_car, mask=mask_inv)\n",
    "result = cv2.add(road, car)"
   ]
  },
  {
   "cell_type": "code",
   "execution_count": null,
   "metadata": {},
   "outputs": [],
   "source": [
    "cv2.imshow(\"Car\", img_car)\n",
    "cv2.imshow(\"Road\", img_road)\n",
    "cv2.imshow(\"R\", road)\n",
    "cv2.imshow(\"C\", car)\n",
    "cv2.imshow(\"Result\", result)\n",
    "cv2.waitKey(0)\n",
    "cv2.destroyAllWindows()"
   ]
  },
  {
   "cell_type": "code",
   "execution_count": null,
   "metadata": {},
   "outputs": [],
   "source": []
  }
 ],
 "metadata": {
  "kernelspec": {
   "display_name": "Python 3",
   "language": "python",
   "name": "python3"
  },
  "language_info": {
   "codemirror_mode": {
    "name": "ipython",
    "version": 3
   },
   "file_extension": ".py",
   "mimetype": "text/x-python",
   "name": "python",
   "nbconvert_exporter": "python",
   "pygments_lexer": "ipython3",
   "version": "3.7.1"
  }
 },
 "nbformat": 4,
 "nbformat_minor": 2
}
