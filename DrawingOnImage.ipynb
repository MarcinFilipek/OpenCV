{
 "cells": [
  {
   "cell_type": "code",
   "execution_count": 1,
   "metadata": {},
   "outputs": [],
   "source": [
    "import cv2\n",
    "import numpy as np"
   ]
  },
  {
   "cell_type": "code",
   "execution_count": 2,
   "metadata": {},
   "outputs": [],
   "source": [
    "file_name = \"elesh_avatar.jpg\""
   ]
  },
  {
   "cell_type": "code",
   "execution_count": 3,
   "metadata": {},
   "outputs": [],
   "source": [
    "img = cv2.imread(file_name)"
   ]
  },
  {
   "cell_type": "code",
   "execution_count": 4,
   "metadata": {},
   "outputs": [],
   "source": [
    "#bgr\n",
    "colors = {\n",
    "    \"blue\":(255, 0, 0),\n",
    "    \"green\":(0, 255, 0),\n",
    "    \"red\":(0, 0, 255),\n",
    "    \"violet\":(180, 0, 180),\n",
    "    \"yellow\":(0, 180, 180),\n",
    "    \"white\":(255, 255, 255),\n",
    "    \"black\":(0, 0, 0)}"
   ]
  },
  {
   "cell_type": "code",
   "execution_count": 5,
   "metadata": {},
   "outputs": [],
   "source": [
    "# ; - no output\n",
    "cv2.line(img, (10, 10), (200, 15), colors[\"blue\"], thickness=2);\n",
    "cv2.circle(img, (256, 256), 50, colors[\"red\"], thickness=-1);\n",
    "cv2.circle(img, (206, 206), 50, colors[\"red\"], thickness=5);\n",
    "cv2.rectangle(img, (50,50), (100, 100), colors[\"black\"], thickness=2);\n",
    "cv2.rectangle(img, (150,50), (200, 100), colors[\"black\"], thickness=-1);\n",
    "cv2.ellipse(img, (250, 150), (50, 30), 5, 0, 360, colors[\"violet\"], thickness=2);\n",
    "\n",
    "points = np.array([[10, 300], [200, 290], [200, 410], [10, 400]], dtype = np.int)\n",
    "cv2.polylines(img, [points], True, colors[\"white\"], thickness=3);"
   ]
  },
  {
   "cell_type": "code",
   "execution_count": 6,
   "metadata": {},
   "outputs": [],
   "source": [
    "font = cv2.FONT_HERSHEY_COMPLEX\n",
    "cv2.putText(img, \"Elesh\", (12, 495), font, 5, colors[\"green\"], thickness=3);"
   ]
  },
  {
   "cell_type": "code",
   "execution_count": 7,
   "metadata": {},
   "outputs": [],
   "source": [
    "cv2.imshow(\"Image\", img)\n",
    "cv2.waitKey(0)\n",
    "cv2.destroyAllWindows()"
   ]
  }
 ],
 "metadata": {
  "kernelspec": {
   "display_name": "Python 3",
   "language": "python",
   "name": "python3"
  },
  "language_info": {
   "codemirror_mode": {
    "name": "ipython",
    "version": 3
   },
   "file_extension": ".py",
   "mimetype": "text/x-python",
   "name": "python",
   "nbconvert_exporter": "python",
   "pygments_lexer": "ipython3",
   "version": "3.6.8"
  }
 },
 "nbformat": 4,
 "nbformat_minor": 2
}
